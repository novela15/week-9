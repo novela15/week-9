{
  "nbformat": 4,
  "nbformat_minor": 0,
  "metadata": {
    "colab": {
      "provenance": []
    },
    "kernelspec": {
      "name": "python3",
      "display_name": "Python 3"
    },
    "language_info": {
      "name": "python"
    }
  },
  "cells": [
    {
      "cell_type": "markdown",
      "source": [
        "# **Weekly Exercise 2**"
      ],
      "metadata": {
        "id": "MJ5REA6bSQ58"
      }
    },
    {
      "cell_type": "code",
      "source": [
        "mahasiswa_list ={\n",
        "    \"nama\": \"Novela Eka Saputri\",\n",
        "    \"kelas\": \"Rombel 3\",\n",
        "    \"tanggal_lahir\": \"15-11-2006\",\n",
        "    \"no_hp\": \"083102453081\",\n",
        "    \"alamat\": \"Borobudur\",\n",
        "    \"hobi\": [\"mendengarkan musik\", \"makan\", \"minum\"]\n",
        "}\n",
        "for key, value in mahasiswa_list.items():\n",
        "    if key == \"hobi\":\n",
        "        print(f\"{key.capitalize()}:\")\n",
        "        for hobi in value:\n",
        "            print(f\"- {hobi}\")\n",
        "    else:\n",
        "        print(f\"{key.capitalize()}: {value}\")"
      ],
      "metadata": {
        "id": "00gdmrE4SWVk",
        "colab": {
          "base_uri": "https://localhost:8080/"
        },
        "outputId": "bdfd2d64-5a38-4b66-c4cc-2d25fe0f9237"
      },
      "execution_count": 3,
      "outputs": [
        {
          "output_type": "stream",
          "name": "stdout",
          "text": [
            "Nama: Novela Eka Saputri\n",
            "Kelas: Rombel 3\n",
            "Tanggal_lahir: 15-11-2006\n",
            "No_hp: 083102453081\n",
            "Alamat: Borobudur\n",
            "Hobi:\n",
            "- mendengarkan musik\n",
            "- makan\n",
            "- minum\n"
          ]
        }
      ]
    }
  ]
}